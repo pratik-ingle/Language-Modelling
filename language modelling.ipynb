{
 "cells": [
  {
   "cell_type": "markdown",
   "metadata": {},
   "source": [
    "Reading file in python"
   ]
  },
  {
   "cell_type": "code",
   "execution_count": 2,
   "metadata": {
    "collapsed": false,
    "scrolled": true
   },
   "outputs": [
    {
     "name": "stdout",
     "output_type": "stream",
     "text": [
      "<s> peter piper picked a peck of pickled peppers </s>\n",
      "<s> a peck of pickled peppers peter piper picked </s>\n",
      "<s> if peter piper picked a peck of pickled peppers </s>\n",
      "<s> where s the peck of pickled peppers peter piper picked </s>\n",
      "\n"
     ]
    }
   ],
   "source": [
    "with open('mothergoosecorpus.txt','r') as f:\n",
    "\tcorpus = f.read() \n",
    "\tprint(corpus)"
   ]
  },
  {
   "cell_type": "code",
   "execution_count": 3,
   "metadata": {
    "collapsed": false,
    "scrolled": true
   },
   "outputs": [
    {
     "name": "stdout",
     "output_type": "stream",
     "text": [
      "['<s>', 'peter', 'piper', 'picked', 'a', 'peck', 'of', 'pickled', 'peppers', '</s>', '<s>', 'a', 'peck', 'of', 'pickled', 'peppers', 'peter', 'piper', 'picked', '</s>', '<s>', 'if', 'peter', 'piper', 'picked', 'a', 'peck', 'of', 'pickled', 'peppers', '</s>', '<s>', 'where', 's', 'the', 'peck', 'of', 'pickled', 'peppers', 'peter', 'piper', 'picked', '</s>']\n"
     ]
    }
   ],
   "source": [
    "words = corpus.split()        # split function converting whole corpus in to list of words so it will be eassy to handle\n",
    "print(words[:])"
   ]
  },
  {
   "cell_type": "code",
   "execution_count": 4,
   "metadata": {
    "collapsed": false
   },
   "outputs": [],
   "source": [
    "# vocabulary of corpus\n",
    "def vocabulary(words):\n",
    "    vocabulary = []\n",
    "    for i in words:\n",
    "        if i not in vocabulary:\n",
    "            vocabulary.append(i)\n",
    "    print(vocabulary)"
   ]
  },
  {
   "cell_type": "code",
   "execution_count": 5,
   "metadata": {
    "collapsed": false
   },
   "outputs": [
    {
     "name": "stdout",
     "output_type": "stream",
     "text": [
      "['<s>', 'peter', 'piper', 'picked', 'a', 'peck', 'of', 'pickled', 'peppers', '</s>', 'if', 'where', 's', 'the']\n"
     ]
    }
   ],
   "source": [
    "v = vocabulary(words)\n"
   ]
  },
  {
   "cell_type": "code",
   "execution_count": 6,
   "metadata": {
    "collapsed": false
   },
   "outputs": [
    {
     "name": "stdout",
     "output_type": "stream",
     "text": [
      "43\n"
     ]
    }
   ],
   "source": [
    "N = len(words)\n",
    "print(N)"
   ]
  },
  {
   "cell_type": "code",
   "execution_count": 7,
   "metadata": {
    "collapsed": false,
    "scrolled": true
   },
   "outputs": [
    {
     "name": "stdout",
     "output_type": "stream",
     "text": [
      "{'s': 1, 'peck': 4, 'piper': 4, '</s>': 4, 'where': 1, 'of': 4, 'the': 1, 'pickled': 4, 'peter': 4, '<s>': 4, 'a': 3, 'if': 1, 'picked': 4, 'peppers': 4}\n"
     ]
    }
   ],
   "source": [
    "#counting frequency of each type in corpus\n",
    "\n",
    "from collections import Counter\n",
    "a = dict(Counter(words))\n",
    "print(a)"
   ]
  },
  {
   "cell_type": "code",
   "execution_count": 8,
   "metadata": {
    "collapsed": false
   },
   "outputs": [
    {
     "name": "stdout",
     "output_type": "stream",
     "text": [
      "Counter({'peck': 4, '</s>': 4, 'of': 4, 'picked': 4, 'pickled': 4, 'peter': 4, '<s>': 4, 'piper': 4, 'peppers': 4, 'a': 3, 's': 1, 'the': 1, 'where': 1, 'if': 1})\n",
      "[('s', 1), ('the', 1), ('peck', 4), ('</s>', 4), ('where', 1), ('of', 4), ('picked', 4), ('pickled', 4), ('peter', 4), ('<s>', 4), ('a', 3), ('if', 1), ('piper', 4), ('peppers', 4)]\n"
     ]
    },
    {
     "data": {
      "text/plain": [
       "[['peck', 0.09302325581395349],\n",
       " ['</s>', 0.09302325581395349],\n",
       " ['of', 0.09302325581395349],\n",
       " ['picked', 0.09302325581395349],\n",
       " ['pickled', 0.09302325581395349],\n",
       " ['peter', 0.09302325581395349],\n",
       " ['<s>', 0.09302325581395349],\n",
       " ['piper', 0.09302325581395349],\n",
       " ['peppers', 0.09302325581395349],\n",
       " ['a', 0.06976744186046512],\n",
       " ['s', 0.023255813953488372],\n",
       " ['the', 0.023255813953488372],\n",
       " ['where', 0.023255813953488372],\n",
       " ['if', 0.023255813953488372]]"
      ]
     },
     "execution_count": 8,
     "metadata": {},
     "output_type": "execute_result"
    }
   ],
   "source": [
    "# probability of unigrams\n",
    "import collections\n",
    "types =  collections.Counter(words)\n",
    "print(types)\n",
    "\n",
    "# converting dictionary into two dimentional array\n",
    "a = []\n",
    "for value in types.items() :\n",
    "    a.append(value)\n",
    "print(a)\n",
    "\n",
    "#finding probability and printing \n",
    "pro_uni = [[] for i in range(14)]\n",
    "for i in range(14):\n",
    "    probability = a[i][1]/N\n",
    "    pro_uni[i].append(a[i][0])   # storing word in first columb of pro_uni list\n",
    "    pro_uni[i].append(probability)  # storing word in second columb on pro_uni list\n",
    "    #print( a[i][0] ,\"=\", probability)\n",
    "    \n",
    "# sorting probabilities of unigrames \n",
    "sorted(pro_uni,key=lambda l:l[1], reverse = True)"
   ]
  },
  {
   "cell_type": "code",
   "execution_count": 9,
   "metadata": {
    "collapsed": false,
    "scrolled": true
   },
   "outputs": [
    {
     "name": "stdout",
     "output_type": "stream",
     "text": [
      "[['<s>', 'peter'], ['peter', 'piper'], ['piper', 'picked'], ['picked', 'a'], ['a', 'peck'], ['peck', 'of'], ['of', 'pickled'], ['pickled', 'peppers'], ['peppers', '</s>'], ['</s>', '<s>'], ['<s>', 'a'], ['a', 'peck'], ['peck', 'of'], ['of', 'pickled'], ['pickled', 'peppers'], ['peppers', 'peter'], ['peter', 'piper'], ['piper', 'picked'], ['picked', '</s>'], ['</s>', '<s>'], ['<s>', 'if'], ['if', 'peter'], ['peter', 'piper'], ['piper', 'picked'], ['picked', 'a'], ['a', 'peck'], ['peck', 'of'], ['of', 'pickled'], ['pickled', 'peppers'], ['peppers', '</s>'], ['</s>', '<s>'], ['<s>', 'where'], ['where', 's'], ['s', 'the'], ['the', 'peck'], ['peck', 'of'], ['of', 'pickled'], ['pickled', 'peppers'], ['peppers', 'peter'], ['peter', 'piper'], ['piper', 'picked'], ['picked', '</s>'], []]\n",
      "[[['peter', 'piper'], 4], [['piper', 'picked'], 4], [['peck', 'of'], 4], [['of', 'pickled'], 4], [['pickled', 'peppers'], 4], [['a', 'peck'], 3], [['</s>', '<s>'], 3], [['picked', 'a'], 2], [['peppers', '</s>'], 2], [['peppers', 'peter'], 2], [['picked', '</s>'], 2], [['<s>', 'peter'], 1], [['<s>', 'a'], 1], [['<s>', 'if'], 1], [['if', 'peter'], 1], [['<s>', 'where'], 1], [['where', 's'], 1], [['s', 'the'], 1], [['the', 'peck'], 1], [[], 1]]\n"
     ]
    }
   ],
   "source": [
    "# bigram probability method \n",
    "# most frequent bigram in model\n",
    "\n",
    "# forming bigram model as list\n",
    "bigram = [[] for i in range(N)]\n",
    "for i in range(N):\n",
    "    if i+1 < N:   \n",
    "        bigram[i].append( words[i] )   # storing word in first columb of pro_uni list\n",
    "        bigram[i].append( words[i+1] )\n",
    "    \n",
    "#print (bigram)\n",
    "\n",
    "print(bigram)\n",
    "\n",
    "\n",
    "# counting frequency of each bigram\n",
    "bigram_fre = []\n",
    "for i in bigram:\n",
    "    temp = [i, bigram.count(i)]\n",
    "    if temp not in bigram_fre:\n",
    "        bigram_fre.append(temp)\n",
    "\n",
    "b1 = sorted(bigram_fre,key=lambda l:l[1], reverse = True)\n",
    "\n",
    "print(b1)"
   ]
  },
  {
   "cell_type": "code",
   "execution_count": 10,
   "metadata": {
    "collapsed": false
   },
   "outputs": [
    {
     "name": "stdout",
     "output_type": "stream",
     "text": [
      "[['peter', 'piper'], 4] = 1.0\n",
      "[['piper', 'picked'], 4] = 1.0\n",
      "[['peck', 'of'], 4] = 1.0\n",
      "[['of', 'pickled'], 4] = 1.0\n",
      "[['pickled', 'peppers'], 4] = 1.0\n",
      "[['a', 'peck'], 3] = 1.0\n",
      "[['</s>', '<s>'], 3] = 0.75\n",
      "[['picked', 'a'], 2] = 0.5\n",
      "[['peppers', '</s>'], 2] = 0.5\n",
      "[['peppers', 'peter'], 2] = 0.5\n",
      "[['picked', '</s>'], 2] = 0.5\n",
      "[['<s>', 'peter'], 1] = 0.25\n",
      "[['<s>', 'a'], 1] = 0.25\n",
      "[['<s>', 'if'], 1] = 0.25\n",
      "[['if', 'peter'], 1] = 1.0\n",
      "[['<s>', 'where'], 1] = 0.25\n",
      "[['where', 's'], 1] = 1.0\n",
      "[['s', 'the'], 1] = 1.0\n",
      "[['the', 'peck'], 1] = 1.0\n"
     ]
    }
   ],
   "source": [
    "#finding probability of bigram\n",
    "\n",
    "for i in range(len(b1)-1):\n",
    "    num = b1[i][1]\n",
    "    den = words.count(b1[i][0][0])\n",
    "    \n",
    "    bigram_pro = num/den\n",
    "    \n",
    "    print(b1[i], '=', bigram_pro)\n"
   ]
  },
  {
   "cell_type": "code",
   "execution_count": 11,
   "metadata": {
    "collapsed": false
   },
   "outputs": [
    {
     "name": "stdout",
     "output_type": "stream",
     "text": [
      "[[['peter', 'piper'], 4], 0.29411764705882354]\n",
      "[[['piper', 'picked'], 4], 0.29411764705882354]\n",
      "[[['peck', 'of'], 4], 0.29411764705882354]\n",
      "[[['of', 'pickled'], 4], 0.29411764705882354]\n",
      "[[['pickled', 'peppers'], 4], 0.29411764705882354]\n",
      "[[['a', 'peck'], 3], 0.25]\n",
      "[[['</s>', '<s>'], 3], 0.23529411764705882]\n",
      "[[['picked', 'a'], 2], 0.17647058823529413]\n",
      "[[['peppers', '</s>'], 2], 0.17647058823529413]\n",
      "[[['peppers', 'peter'], 2], 0.17647058823529413]\n",
      "[[['picked', '</s>'], 2], 0.17647058823529413]\n",
      "[[['<s>', 'peter'], 1], 0.11764705882352941]\n",
      "[[['<s>', 'a'], 1], 0.11764705882352941]\n",
      "[[['<s>', 'if'], 1], 0.11764705882352941]\n",
      "[[['if', 'peter'], 1], 0.14285714285714285]\n",
      "[[['<s>', 'where'], 1], 0.11764705882352941]\n",
      "[[['where', 's'], 1], 0.14285714285714285]\n",
      "[[['s', 'the'], 1], 0.14285714285714285]\n",
      "[[['the', 'peck'], 1], 0.14285714285714285]\n"
     ]
    }
   ],
   "source": [
    "# probability matrix of bigram using laplace smoothing\n",
    "\n",
    "# vocabilary of words \n",
    "vocabulary = []\n",
    "for i in words:\n",
    "    if i not in vocabulary:\n",
    "        vocabulary.append(i)\n",
    "v = (len(vocabulary)-1)\n",
    "\n",
    "# bigram probability with laplace smoothing \n",
    "seen_bigram_lap = []\n",
    "for i in range(len(b1)-1):\n",
    "    num = b1[i][1]\n",
    "    den = words.count(b1[i][0][0])\n",
    "    \n",
    "    bigram_pro_lap = (num+1)/(den +v)\n",
    "    tem = [b1[i], bigram_pro_lap]\n",
    "    seen_bigram_lap.append(tem)\n",
    "\n",
    "for i in seen_bigram_lap:\n",
    "    print(i)\n",
    "\n"
   ]
  },
  {
   "cell_type": "code",
   "execution_count": 12,
   "metadata": {
    "collapsed": false
   },
   "outputs": [
    {
     "name": "stdout",
     "output_type": "stream",
     "text": [
      "['<s>', 'peter', 'piper', 'picked', 'a', 'peck', 'of', 'pickled', 'peppers', '</s>', 'if', 'where', 's', 'the']\n"
     ]
    }
   ],
   "source": [
    "# vocabulary of words\n",
    "vocabulary = []\n",
    "for i in words:\n",
    "    if i not in vocabulary:\n",
    "        vocabulary.append(i)\n",
    "print(vocabulary)"
   ]
  },
  {
   "cell_type": "code",
   "execution_count": 13,
   "metadata": {
    "collapsed": false
   },
   "outputs": [
    {
     "data": {
      "text/plain": [
       "14"
      ]
     },
     "execution_count": 13,
     "metadata": {},
     "output_type": "execute_result"
    }
   ],
   "source": [
    "len(vocabulary)"
   ]
  },
  {
   "cell_type": "code",
   "execution_count": 14,
   "metadata": {
    "collapsed": false
   },
   "outputs": [],
   "source": [
    "# all possible bigrams\n",
    " \n",
    "all_bigram = []\n",
    "n = len(vocabulary)\n",
    "for i in vocabulary:\n",
    "    for j in range(n):\n",
    "        temp =[i , vocabulary[j]] \n",
    "        if temp not in all_bigram:\n",
    "            all_bigram.append(temp)\n",
    "    \n",
    "#for i in all_bigram:\n",
    " #      print(i)\n",
    "\n",
    "bigram_count =[]\n",
    "for i in range(len(bigram)):   \n",
    "        x = bigram[i]\n",
    "        #x1= bigram[1][0]\n",
    "        temp = [bigram[i], bigram.count(x)] #bigram.count(x)/words.count(x1)]\n",
    "        if temp not in bigram_count:\n",
    "            bigram_count.append(temp)\n",
    "   \n",
    "        else:\n",
    "           {}\n",
    "#print(bigram_count)\n"
   ]
  },
  {
   "cell_type": "code",
   "execution_count": 15,
   "metadata": {
    "collapsed": false
   },
   "outputs": [
    {
     "name": "stdout",
     "output_type": "stream",
     "text": [
      "[[['<s>', '<s>'], 1], 0.058823529411764705]\n",
      "[[['<s>', 'piper'], 1], 0.058823529411764705]\n",
      "[[['<s>', 'picked'], 1], 0.058823529411764705]\n",
      "[[['<s>', 'peck'], 1], 0.058823529411764705]\n",
      "[[['<s>', 'of'], 1], 0.058823529411764705]\n",
      "[[['<s>', 'pickled'], 1], 0.058823529411764705]\n",
      "[[['<s>', 'peppers'], 1], 0.058823529411764705]\n",
      "[[['<s>', '</s>'], 1], 0.058823529411764705]\n",
      "[[['<s>', 's'], 1], 0.058823529411764705]\n",
      "[[['<s>', 'the'], 1], 0.058823529411764705]\n",
      "[[['peter', '<s>'], 1], 0.058823529411764705]\n",
      "[[['peter', 'peter'], 1], 0.058823529411764705]\n",
      "[[['peter', 'piper'], 1], 0.058823529411764705]\n",
      "[[['peter', 'picked'], 1], 0.058823529411764705]\n",
      "[[['peter', 'a'], 1], 0.058823529411764705]\n",
      "[[['peter', 'peck'], 1], 0.058823529411764705]\n",
      "[[['peter', 'of'], 1], 0.058823529411764705]\n",
      "[[['peter', 'pickled'], 1], 0.058823529411764705]\n",
      "[[['peter', 'peppers'], 1], 0.058823529411764705]\n",
      "[[['peter', '</s>'], 1], 0.058823529411764705]\n",
      "[[['peter', 'if'], 1], 0.058823529411764705]\n",
      "[[['peter', 'where'], 1], 0.058823529411764705]\n",
      "[[['peter', 's'], 1], 0.058823529411764705]\n",
      "[[['peter', 'the'], 1], 0.058823529411764705]\n",
      "[[['piper', '<s>'], 1], 0.058823529411764705]\n",
      "[[['piper', 'peter'], 1], 0.058823529411764705]\n",
      "[[['piper', 'piper'], 1], 0.058823529411764705]\n",
      "[[['piper', 'picked'], 1], 0.058823529411764705]\n",
      "[[['piper', 'a'], 1], 0.058823529411764705]\n",
      "[[['piper', 'peck'], 1], 0.058823529411764705]\n",
      "[[['piper', 'of'], 1], 0.058823529411764705]\n",
      "[[['piper', 'pickled'], 1], 0.058823529411764705]\n",
      "[[['piper', 'peppers'], 1], 0.058823529411764705]\n",
      "[[['piper', '</s>'], 1], 0.058823529411764705]\n",
      "[[['piper', 'if'], 1], 0.058823529411764705]\n",
      "[[['piper', 'where'], 1], 0.058823529411764705]\n",
      "[[['piper', 's'], 1], 0.058823529411764705]\n",
      "[[['piper', 'the'], 1], 0.058823529411764705]\n",
      "[[['picked', '<s>'], 1], 0.058823529411764705]\n",
      "[[['picked', 'peter'], 1], 0.058823529411764705]\n",
      "[[['picked', 'piper'], 1], 0.058823529411764705]\n",
      "[[['picked', 'picked'], 1], 0.058823529411764705]\n",
      "[[['picked', 'a'], 1], 0.058823529411764705]\n",
      "[[['picked', 'peck'], 1], 0.058823529411764705]\n",
      "[[['picked', 'of'], 1], 0.058823529411764705]\n",
      "[[['picked', 'pickled'], 1], 0.058823529411764705]\n",
      "[[['picked', 'peppers'], 1], 0.058823529411764705]\n",
      "[[['picked', '</s>'], 1], 0.058823529411764705]\n",
      "[[['picked', 'if'], 1], 0.058823529411764705]\n",
      "[[['picked', 'where'], 1], 0.058823529411764705]\n",
      "[[['picked', 's'], 1], 0.058823529411764705]\n",
      "[[['picked', 'the'], 1], 0.058823529411764705]\n",
      "[[['a', '<s>'], 1], 0.0625]\n",
      "[[['a', 'peter'], 1], 0.0625]\n",
      "[[['a', 'piper'], 1], 0.0625]\n",
      "[[['a', 'picked'], 1], 0.0625]\n",
      "[[['a', 'a'], 1], 0.0625]\n",
      "[[['a', 'peck'], 1], 0.0625]\n",
      "[[['a', 'of'], 1], 0.0625]\n",
      "[[['a', 'pickled'], 1], 0.0625]\n",
      "[[['a', 'peppers'], 1], 0.0625]\n",
      "[[['a', '</s>'], 1], 0.0625]\n",
      "[[['a', 'if'], 1], 0.0625]\n",
      "[[['a', 'where'], 1], 0.0625]\n",
      "[[['a', 's'], 1], 0.0625]\n",
      "[[['a', 'the'], 1], 0.0625]\n",
      "[[['peck', '<s>'], 1], 0.058823529411764705]\n",
      "[[['peck', 'peter'], 1], 0.058823529411764705]\n",
      "[[['peck', 'piper'], 1], 0.058823529411764705]\n",
      "[[['peck', 'picked'], 1], 0.058823529411764705]\n",
      "[[['peck', 'a'], 1], 0.058823529411764705]\n",
      "[[['peck', 'peck'], 1], 0.058823529411764705]\n",
      "[[['peck', 'of'], 1], 0.058823529411764705]\n",
      "[[['peck', 'pickled'], 1], 0.058823529411764705]\n",
      "[[['peck', 'peppers'], 1], 0.058823529411764705]\n",
      "[[['peck', '</s>'], 1], 0.058823529411764705]\n",
      "[[['peck', 'if'], 1], 0.058823529411764705]\n",
      "[[['peck', 'where'], 1], 0.058823529411764705]\n",
      "[[['peck', 's'], 1], 0.058823529411764705]\n",
      "[[['peck', 'the'], 1], 0.058823529411764705]\n",
      "[[['of', '<s>'], 1], 0.058823529411764705]\n",
      "[[['of', 'peter'], 1], 0.058823529411764705]\n",
      "[[['of', 'piper'], 1], 0.058823529411764705]\n",
      "[[['of', 'picked'], 1], 0.058823529411764705]\n",
      "[[['of', 'a'], 1], 0.058823529411764705]\n",
      "[[['of', 'peck'], 1], 0.058823529411764705]\n",
      "[[['of', 'of'], 1], 0.058823529411764705]\n",
      "[[['of', 'pickled'], 1], 0.058823529411764705]\n",
      "[[['of', 'peppers'], 1], 0.058823529411764705]\n",
      "[[['of', '</s>'], 1], 0.058823529411764705]\n",
      "[[['of', 'if'], 1], 0.058823529411764705]\n",
      "[[['of', 'where'], 1], 0.058823529411764705]\n",
      "[[['of', 's'], 1], 0.058823529411764705]\n",
      "[[['of', 'the'], 1], 0.058823529411764705]\n",
      "[[['pickled', '<s>'], 1], 0.058823529411764705]\n",
      "[[['pickled', 'peter'], 1], 0.058823529411764705]\n",
      "[[['pickled', 'piper'], 1], 0.058823529411764705]\n",
      "[[['pickled', 'picked'], 1], 0.058823529411764705]\n",
      "[[['pickled', 'a'], 1], 0.058823529411764705]\n",
      "[[['pickled', 'peck'], 1], 0.058823529411764705]\n",
      "[[['pickled', 'of'], 1], 0.058823529411764705]\n",
      "[[['pickled', 'pickled'], 1], 0.058823529411764705]\n",
      "[[['pickled', 'peppers'], 1], 0.058823529411764705]\n",
      "[[['pickled', '</s>'], 1], 0.058823529411764705]\n",
      "[[['pickled', 'if'], 1], 0.058823529411764705]\n",
      "[[['pickled', 'where'], 1], 0.058823529411764705]\n",
      "[[['pickled', 's'], 1], 0.058823529411764705]\n",
      "[[['pickled', 'the'], 1], 0.058823529411764705]\n",
      "[[['peppers', '<s>'], 1], 0.058823529411764705]\n",
      "[[['peppers', 'peter'], 1], 0.058823529411764705]\n",
      "[[['peppers', 'piper'], 1], 0.058823529411764705]\n",
      "[[['peppers', 'picked'], 1], 0.058823529411764705]\n",
      "[[['peppers', 'a'], 1], 0.058823529411764705]\n",
      "[[['peppers', 'peck'], 1], 0.058823529411764705]\n",
      "[[['peppers', 'of'], 1], 0.058823529411764705]\n",
      "[[['peppers', 'pickled'], 1], 0.058823529411764705]\n",
      "[[['peppers', 'peppers'], 1], 0.058823529411764705]\n",
      "[[['peppers', '</s>'], 1], 0.058823529411764705]\n",
      "[[['peppers', 'if'], 1], 0.058823529411764705]\n",
      "[[['peppers', 'where'], 1], 0.058823529411764705]\n",
      "[[['peppers', 's'], 1], 0.058823529411764705]\n",
      "[[['peppers', 'the'], 1], 0.058823529411764705]\n",
      "[[['</s>', '<s>'], 1], 0.058823529411764705]\n",
      "[[['</s>', 'peter'], 1], 0.058823529411764705]\n",
      "[[['</s>', 'piper'], 1], 0.058823529411764705]\n",
      "[[['</s>', 'picked'], 1], 0.058823529411764705]\n",
      "[[['</s>', 'a'], 1], 0.058823529411764705]\n",
      "[[['</s>', 'peck'], 1], 0.058823529411764705]\n",
      "[[['</s>', 'of'], 1], 0.058823529411764705]\n",
      "[[['</s>', 'pickled'], 1], 0.058823529411764705]\n",
      "[[['</s>', 'peppers'], 1], 0.058823529411764705]\n",
      "[[['</s>', '</s>'], 1], 0.058823529411764705]\n",
      "[[['</s>', 'if'], 1], 0.058823529411764705]\n",
      "[[['</s>', 'where'], 1], 0.058823529411764705]\n",
      "[[['</s>', 's'], 1], 0.058823529411764705]\n",
      "[[['</s>', 'the'], 1], 0.058823529411764705]\n",
      "[[['if', '<s>'], 1], 0.07142857142857142]\n",
      "[[['if', 'piper'], 1], 0.07142857142857142]\n",
      "[[['if', 'picked'], 1], 0.07142857142857142]\n",
      "[[['if', 'a'], 1], 0.07142857142857142]\n",
      "[[['if', 'peck'], 1], 0.07142857142857142]\n",
      "[[['if', 'of'], 1], 0.07142857142857142]\n",
      "[[['if', 'pickled'], 1], 0.07142857142857142]\n",
      "[[['if', 'peppers'], 1], 0.07142857142857142]\n",
      "[[['if', '</s>'], 1], 0.07142857142857142]\n",
      "[[['if', 'if'], 1], 0.07142857142857142]\n",
      "[[['if', 'where'], 1], 0.07142857142857142]\n",
      "[[['if', 's'], 1], 0.07142857142857142]\n",
      "[[['if', 'the'], 1], 0.07142857142857142]\n",
      "[[['where', '<s>'], 1], 0.07142857142857142]\n",
      "[[['where', 'peter'], 1], 0.07142857142857142]\n",
      "[[['where', 'piper'], 1], 0.07142857142857142]\n",
      "[[['where', 'picked'], 1], 0.07142857142857142]\n",
      "[[['where', 'a'], 1], 0.07142857142857142]\n",
      "[[['where', 'peck'], 1], 0.07142857142857142]\n",
      "[[['where', 'of'], 1], 0.07142857142857142]\n",
      "[[['where', 'pickled'], 1], 0.07142857142857142]\n",
      "[[['where', 'peppers'], 1], 0.07142857142857142]\n",
      "[[['where', '</s>'], 1], 0.07142857142857142]\n",
      "[[['where', 'if'], 1], 0.07142857142857142]\n",
      "[[['where', 'where'], 1], 0.07142857142857142]\n",
      "[[['where', 'the'], 1], 0.07142857142857142]\n",
      "[[['s', '<s>'], 1], 0.07142857142857142]\n",
      "[[['s', 'peter'], 1], 0.07142857142857142]\n",
      "[[['s', 'piper'], 1], 0.07142857142857142]\n",
      "[[['s', 'picked'], 1], 0.07142857142857142]\n",
      "[[['s', 'a'], 1], 0.07142857142857142]\n",
      "[[['s', 'peck'], 1], 0.07142857142857142]\n",
      "[[['s', 'of'], 1], 0.07142857142857142]\n",
      "[[['s', 'pickled'], 1], 0.07142857142857142]\n",
      "[[['s', 'peppers'], 1], 0.07142857142857142]\n",
      "[[['s', '</s>'], 1], 0.07142857142857142]\n",
      "[[['s', 'if'], 1], 0.07142857142857142]\n",
      "[[['s', 'where'], 1], 0.07142857142857142]\n",
      "[[['s', 's'], 1], 0.07142857142857142]\n",
      "[[['the', '<s>'], 1], 0.07142857142857142]\n",
      "[[['the', 'peter'], 1], 0.07142857142857142]\n",
      "[[['the', 'piper'], 1], 0.07142857142857142]\n",
      "[[['the', 'picked'], 1], 0.07142857142857142]\n",
      "[[['the', 'a'], 1], 0.07142857142857142]\n",
      "[[['the', 'of'], 1], 0.07142857142857142]\n",
      "[[['the', 'pickled'], 1], 0.07142857142857142]\n",
      "[[['the', 'peppers'], 1], 0.07142857142857142]\n",
      "[[['the', '</s>'], 1], 0.07142857142857142]\n",
      "[[['the', 'if'], 1], 0.07142857142857142]\n",
      "[[['the', 'where'], 1], 0.07142857142857142]\n",
      "[[['the', 's'], 1], 0.07142857142857142]\n"
     ]
    }
   ],
   "source": [
    "# frequency of all bigrams\n",
    "bigram_fre_all = []\n",
    "for i in all_bigram:\n",
    "    temp = [i, all_bigram.count(i)]\n",
    "    if temp not in bigram_fre:\n",
    "        bigram_fre_all.append(temp)\n",
    "\n",
    "b_all = sorted(bigram_fre_all,key=lambda l:l[1], reverse = True)\n",
    "\n",
    "#laplace smoothing of unseen bigrams\n",
    "unseen_bigram_lap = []\n",
    "for i in range(len(b_all)-1):\n",
    "        num = b_all[i][1]\n",
    "        den = words.count(b_all[i][0][0])\n",
    "        bigram_pro_lap = 1/(den +v)\n",
    "        temp =[b_all[i], bigram_pro_lap]\n",
    "        if temp not in unseen_bigram_lap:\n",
    "            unseen_bigram_lap.append(temp)\n",
    "\n",
    "\n",
    "for i in unseen_bigram_lap:\n",
    "    print(i)"
   ]
  },
  {
   "cell_type": "code",
   "execution_count": 16,
   "metadata": {
    "collapsed": false
   },
   "outputs": [],
   "source": [
    "import numpy as np"
   ]
  },
  {
   "cell_type": "code",
   "execution_count": 17,
   "metadata": {
    "collapsed": true
   },
   "outputs": [],
   "source": [
    "import pprint"
   ]
  },
  {
   "cell_type": "code",
   "execution_count": 18,
   "metadata": {
    "collapsed": false
   },
   "outputs": [
    {
     "ename": "IndexError",
     "evalue": "list index out of range",
     "output_type": "error",
     "traceback": [
      "\u001b[0;31m---------------------------------------------------------------------------\u001b[0m",
      "\u001b[0;31mIndexError\u001b[0m                                Traceback (most recent call last)",
      "\u001b[0;32m<ipython-input-18-b15fc33230c0>\u001b[0m in \u001b[0;36m<module>\u001b[0;34m()\u001b[0m\n\u001b[1;32m      5\u001b[0m     \u001b[0;32mif\u001b[0m \u001b[0mi\u001b[0m\u001b[0;34m+\u001b[0m\u001b[0;36m1\u001b[0m \u001b[0;34m<\u001b[0m \u001b[0mN\u001b[0m\u001b[0;34m:\u001b[0m\u001b[0;34m\u001b[0m\u001b[0m\n\u001b[1;32m      6\u001b[0m         \u001b[0mbigram1\u001b[0m\u001b[0;34m[\u001b[0m\u001b[0mi\u001b[0m\u001b[0;34m]\u001b[0m\u001b[0;34m.\u001b[0m\u001b[0mappend\u001b[0m\u001b[0;34m(\u001b[0m \u001b[0msen\u001b[0m\u001b[0;34m[\u001b[0m\u001b[0mi\u001b[0m\u001b[0;34m]\u001b[0m \u001b[0;34m)\u001b[0m   \u001b[0;31m# storing word in first columb of pro_uni list\u001b[0m\u001b[0;34m\u001b[0m\u001b[0m\n\u001b[0;32m----> 7\u001b[0;31m         \u001b[0mbigram1\u001b[0m\u001b[0;34m[\u001b[0m\u001b[0mi\u001b[0m\u001b[0;34m]\u001b[0m\u001b[0;34m.\u001b[0m\u001b[0mappend\u001b[0m\u001b[0;34m(\u001b[0m \u001b[0msen\u001b[0m\u001b[0;34m[\u001b[0m\u001b[0mi\u001b[0m\u001b[0;34m+\u001b[0m\u001b[0;36m1\u001b[0m\u001b[0;34m]\u001b[0m \u001b[0;34m)\u001b[0m\u001b[0;34m\u001b[0m\u001b[0m\n\u001b[0m\u001b[1;32m      8\u001b[0m \u001b[0;34m\u001b[0m\u001b[0m\n\u001b[1;32m      9\u001b[0m \u001b[0;31m#print (bigram)\u001b[0m\u001b[0;34m\u001b[0m\u001b[0;34m\u001b[0m\u001b[0m\n",
      "\u001b[0;31mIndexError\u001b[0m: list index out of range"
     ]
    }
   ],
   "source": [
    "# MLE probability of bigram model of sentence\n",
    "sen = ['<s>', 'peter', 'piper', 'picked', 'a', 'pickled', 'peppers', '</s>']\n",
    "bigram1 = [[] for i in range(N)]\n",
    "for i in range(N):\n",
    "    if i+1 < N:   \n",
    "        bigram1[i].append( sen[i] )   # storing word in first columb of pro_uni list\n",
    "        bigram1[i].append( sen[i+1] )\n",
    "    \n",
    "#print (bigram)\n",
    "nb = len(bigram1)\n",
    "\n",
    "for i in bigram1:\n",
    "       print(i)\n",
    "\n",
    "# counting frequency of each bigram\n",
    "sen_bigram_fre = []\n",
    "for i in bigram1:\n",
    "    temp = [i, bigram.count(i)]\n",
    "    if temp not in sen_bigram_fre:\n",
    "        sen_bigram_fre.append(temp)\n",
    "\n",
    "print(sen_bigram_fre)\n",
    "\n",
    "z = len(sen_bigram_fre)\n",
    "#finding probability of bigram\n",
    "sen_bi_pro = []\n",
    "for i in range(z-1):\n",
    "    num = sen_bigram_fre[i][1]\n",
    "    den = words.count(sen_bigram_fre[i][0][0])\n",
    "    \n",
    "    sen_pro = num/den\n",
    "    \n",
    "    tem=[sen_bigram_fre[i],sen_pro]\n",
    "    sen_bi_pro.append(tem)\n",
    "\n",
    "pprint.pprint(sen_bi_pro)\n",
    "\n",
    "multi_pro=[]\n",
    "for i in range(z-1):\n",
    "    temp=sen_bi_pro[i][1]\n",
    "    multi_pro.append(temp)\n",
    "\n",
    "print(multi_pro)\n",
    "\n",
    "from functools import reduce\n",
    "reduce(lambda x, y: x*y, multi_pro)"
   ]
  },
  {
   "cell_type": "code",
   "execution_count": 19,
   "metadata": {
    "collapsed": false
   },
   "outputs": [
    {
     "ename": "IndexError",
     "evalue": "list index out of range",
     "output_type": "error",
     "traceback": [
      "\u001b[0;31m---------------------------------------------------------------------------\u001b[0m",
      "\u001b[0;31mIndexError\u001b[0m                                Traceback (most recent call last)",
      "\u001b[0;32m<ipython-input-19-c2ba017a24c9>\u001b[0m in \u001b[0;36m<module>\u001b[0;34m()\u001b[0m\n\u001b[1;32m      5\u001b[0m     \u001b[0;32mif\u001b[0m \u001b[0mi\u001b[0m\u001b[0;34m+\u001b[0m\u001b[0;36m1\u001b[0m \u001b[0;34m<\u001b[0m \u001b[0mN\u001b[0m\u001b[0;34m:\u001b[0m\u001b[0;34m\u001b[0m\u001b[0m\n\u001b[1;32m      6\u001b[0m         \u001b[0mbigram1\u001b[0m\u001b[0;34m[\u001b[0m\u001b[0mi\u001b[0m\u001b[0;34m]\u001b[0m\u001b[0;34m.\u001b[0m\u001b[0mappend\u001b[0m\u001b[0;34m(\u001b[0m \u001b[0msen\u001b[0m\u001b[0;34m[\u001b[0m\u001b[0mi\u001b[0m\u001b[0;34m]\u001b[0m \u001b[0;34m)\u001b[0m   \u001b[0;31m# storing word in first columb of pro_uni list\u001b[0m\u001b[0;34m\u001b[0m\u001b[0m\n\u001b[0;32m----> 7\u001b[0;31m         \u001b[0mbigram1\u001b[0m\u001b[0;34m[\u001b[0m\u001b[0mi\u001b[0m\u001b[0;34m]\u001b[0m\u001b[0;34m.\u001b[0m\u001b[0mappend\u001b[0m\u001b[0;34m(\u001b[0m \u001b[0msen\u001b[0m\u001b[0;34m[\u001b[0m\u001b[0mi\u001b[0m\u001b[0;34m+\u001b[0m\u001b[0;36m1\u001b[0m\u001b[0;34m]\u001b[0m \u001b[0;34m)\u001b[0m\u001b[0;34m\u001b[0m\u001b[0m\n\u001b[0m\u001b[1;32m      8\u001b[0m \u001b[0;34m\u001b[0m\u001b[0m\n\u001b[1;32m      9\u001b[0m \u001b[0;31m#print (bigram)\u001b[0m\u001b[0;34m\u001b[0m\u001b[0;34m\u001b[0m\u001b[0m\n",
      "\u001b[0;31mIndexError\u001b[0m: list index out of range"
     ]
    }
   ],
   "source": [
    "# laplace smoothed probability of bigram model sentence\n",
    "sen = ['<s>', 'peter', 'piper', 'picked', 'a', 'pickled', 'peppers', '</s>']\n",
    "bigram1 = [[] for i in range(N)]\n",
    "for i in range(N):\n",
    "    if i+1 < N:   \n",
    "        bigram1[i].append( sen[i] )   # storing word in first columb of pro_uni list\n",
    "        bigram1[i].append( sen[i+1] )\n",
    "    \n",
    "#print (bigram)\n",
    "nb = len(bigram1)\n",
    "\n",
    "for i in bigram1:\n",
    "       print(i)\n",
    "\n",
    "# counting frequency of each bigram\n",
    "sen_bigram_fre = []\n",
    "for i in bigram1:\n",
    "    temp = [i, bigram.count(i)]\n",
    "    if temp not in sen_bigram_fre:\n",
    "        sen_bigram_fre.append(temp)\n",
    "\n",
    "print(sen_bigram_fre)\n",
    "\n",
    "\n",
    "z = len(sen_bigram_fre)\n",
    "#finding laplace smoothed probability of bigram\n",
    "v = (len(vocabulary)-1)\n",
    "\n",
    "sen_bi_pro = []\n",
    "for i in range(z-1):\n",
    "    num = sen_bigram_fre[i][1]\n",
    "    den = words.count(sen_bigram_fre[i][0][0])\n",
    "    \n",
    "    sen_pro = (num+1)/(den+v)\n",
    "    \n",
    "    tem=[sen_bigram_fre[i],sen_pro]\n",
    "    sen_bi_pro.append(tem)\n",
    "\n",
    "pprint.pprint(sen_bi_pro)\n",
    "\n",
    "multi_pro=[]\n",
    "for i in range(z-1):\n",
    "    temp=sen_bi_pro[i][1]\n",
    "    multi_pro.append(temp)\n",
    "\n",
    "print(multi_pro)\n",
    "\n",
    "from functools import reduce\n",
    "reduce(lambda x, y: x*y, multi_pro)"
   ]
  },
  {
   "cell_type": "code",
   "execution_count": 178,
   "metadata": {
    "collapsed": false,
    "scrolled": true
   },
   "outputs": [
    {
     "name": "stdout",
     "output_type": "stream",
     "text": [
      "[[['<s>', '<s>'], 0], [['<s>', 'peter'], 1], [['<s>', 'piper'], 0], [['<s>', 'picked'], 0], [['<s>', 'a'], 1], [['<s>', 'peck'], 0], [['<s>', 'of'], 0], [['<s>', 'pickled'], 0], [['<s>', 'peppers'], 0], [['<s>', '</s>'], 0], [['<s>', 'if'], 1], [['<s>', 'where'], 1], [['<s>', 's'], 0], [['<s>', 'the'], 0], [['peter', '<s>'], 0], [['peter', 'peter'], 0], [['peter', 'piper'], 4], [['peter', 'picked'], 0], [['peter', 'a'], 0], [['peter', 'peck'], 0], [['peter', 'of'], 0], [['peter', 'pickled'], 0], [['peter', 'peppers'], 0], [['peter', '</s>'], 0], [['peter', 'if'], 0], [['peter', 'where'], 0], [['peter', 's'], 0], [['peter', 'the'], 0], [['piper', '<s>'], 0], [['piper', 'peter'], 0], [['piper', 'piper'], 0], [['piper', 'picked'], 4], [['piper', 'a'], 0], [['piper', 'peck'], 0], [['piper', 'of'], 0], [['piper', 'pickled'], 0], [['piper', 'peppers'], 0], [['piper', '</s>'], 0], [['piper', 'if'], 0], [['piper', 'where'], 0], [['piper', 's'], 0], [['piper', 'the'], 0], [['picked', '<s>'], 0], [['picked', 'peter'], 0], [['picked', 'piper'], 0], [['picked', 'picked'], 0], [['picked', 'a'], 2], [['picked', 'peck'], 0], [['picked', 'of'], 0], [['picked', 'pickled'], 0], [['picked', 'peppers'], 0], [['picked', '</s>'], 2], [['picked', 'if'], 0], [['picked', 'where'], 0], [['picked', 's'], 0], [['picked', 'the'], 0], [['a', '<s>'], 0], [['a', 'peter'], 0], [['a', 'piper'], 0], [['a', 'picked'], 0], [['a', 'a'], 0], [['a', 'peck'], 3], [['a', 'of'], 0], [['a', 'pickled'], 0], [['a', 'peppers'], 0], [['a', '</s>'], 0], [['a', 'if'], 0], [['a', 'where'], 0], [['a', 's'], 0], [['a', 'the'], 0], [['peck', '<s>'], 0], [['peck', 'peter'], 0], [['peck', 'piper'], 0], [['peck', 'picked'], 0], [['peck', 'a'], 0], [['peck', 'peck'], 0], [['peck', 'of'], 4], [['peck', 'pickled'], 0], [['peck', 'peppers'], 0], [['peck', '</s>'], 0], [['peck', 'if'], 0], [['peck', 'where'], 0], [['peck', 's'], 0], [['peck', 'the'], 0], [['of', '<s>'], 0], [['of', 'peter'], 0], [['of', 'piper'], 0], [['of', 'picked'], 0], [['of', 'a'], 0], [['of', 'peck'], 0], [['of', 'of'], 0], [['of', 'pickled'], 4], [['of', 'peppers'], 0], [['of', '</s>'], 0], [['of', 'if'], 0], [['of', 'where'], 0], [['of', 's'], 0], [['of', 'the'], 0], [['pickled', '<s>'], 0], [['pickled', 'peter'], 0], [['pickled', 'piper'], 0], [['pickled', 'picked'], 0], [['pickled', 'a'], 0], [['pickled', 'peck'], 0], [['pickled', 'of'], 0], [['pickled', 'pickled'], 0], [['pickled', 'peppers'], 4], [['pickled', '</s>'], 0], [['pickled', 'if'], 0], [['pickled', 'where'], 0], [['pickled', 's'], 0], [['pickled', 'the'], 0], [['peppers', '<s>'], 0], [['peppers', 'peter'], 2], [['peppers', 'piper'], 0], [['peppers', 'picked'], 0], [['peppers', 'a'], 0], [['peppers', 'peck'], 0], [['peppers', 'of'], 0], [['peppers', 'pickled'], 0], [['peppers', 'peppers'], 0], [['peppers', '</s>'], 2], [['peppers', 'if'], 0], [['peppers', 'where'], 0], [['peppers', 's'], 0], [['peppers', 'the'], 0], [['</s>', '<s>'], 3], [['</s>', 'peter'], 0], [['</s>', 'piper'], 0], [['</s>', 'picked'], 0], [['</s>', 'a'], 0], [['</s>', 'peck'], 0], [['</s>', 'of'], 0], [['</s>', 'pickled'], 0], [['</s>', 'peppers'], 0], [['</s>', '</s>'], 0], [['</s>', 'if'], 0], [['</s>', 'where'], 0], [['</s>', 's'], 0], [['</s>', 'the'], 0], [['if', '<s>'], 0], [['if', 'peter'], 1], [['if', 'piper'], 0], [['if', 'picked'], 0], [['if', 'a'], 0], [['if', 'peck'], 0], [['if', 'of'], 0], [['if', 'pickled'], 0], [['if', 'peppers'], 0], [['if', '</s>'], 0], [['if', 'if'], 0], [['if', 'where'], 0], [['if', 's'], 0], [['if', 'the'], 0], [['where', '<s>'], 0], [['where', 'peter'], 0], [['where', 'piper'], 0], [['where', 'picked'], 0], [['where', 'a'], 0], [['where', 'peck'], 0], [['where', 'of'], 0], [['where', 'pickled'], 0], [['where', 'peppers'], 0], [['where', '</s>'], 0], [['where', 'if'], 0], [['where', 'where'], 0], [['where', 's'], 1], [['where', 'the'], 0], [['s', '<s>'], 0], [['s', 'peter'], 0], [['s', 'piper'], 0], [['s', 'picked'], 0], [['s', 'a'], 0], [['s', 'peck'], 0], [['s', 'of'], 0], [['s', 'pickled'], 0], [['s', 'peppers'], 0], [['s', '</s>'], 0], [['s', 'if'], 0], [['s', 'where'], 0], [['s', 's'], 0], [['s', 'the'], 1], [['the', '<s>'], 0], [['the', 'peter'], 0], [['the', 'piper'], 0], [['the', 'picked'], 0], [['the', 'a'], 0], [['the', 'peck'], 1], [['the', 'of'], 0], [['the', 'pickled'], 0], [['the', 'peppers'], 0], [['the', '</s>'], 0], [['the', 'if'], 0], [['the', 'where'], 0], [['the', 's'], 0], [['the', 'the'], 0]]\n",
      "[[0, 177], [1, 8], [2, 4], [3, 2], [4, 5], [5, 0], [6, 0], [7, 0], [8, 0], [9, 0], [10, 0], [11, 0], [12, 0], [13, 0], [14, 0], [15, 0], [16, 0], [17, 0], [18, 0], [19, 0], [20, 0], [21, 0], [22, 0], [23, 0], [24, 0], [25, 0], [26, 0], [27, 0], [28, 0], [29, 0], [30, 0], [31, 0], [32, 0], [33, 0], [34, 0], [35, 0], [36, 0], [37, 0], [38, 0], [39, 0], [40, 0], [41, 0], [42, 0], [43, 0], [44, 0], [45, 0], [46, 0], [47, 0], [48, 0], [49, 0], [50, 0], [51, 0], [52, 0], [53, 0], [54, 0], [55, 0], [56, 0], [57, 0], [58, 0], [59, 0], [60, 0], [61, 0], [62, 0], [63, 0], [64, 0], [65, 0], [66, 0], [67, 0], [68, 0], [69, 0], [70, 0], [71, 0], [72, 0], [73, 0], [74, 0], [75, 0], [76, 0], [77, 0], [78, 0], [79, 0], [80, 0], [81, 0], [82, 0], [83, 0], [84, 0], [85, 0], [86, 0], [87, 0], [88, 0], [89, 0], [90, 0], [91, 0], [92, 0], [93, 0], [94, 0], [95, 0], [96, 0], [97, 0], [98, 0], [99, 0], [100, 0], [101, 0], [102, 0], [103, 0], [104, 0], [105, 0], [106, 0], [107, 0], [108, 0], [109, 0], [110, 0], [111, 0], [112, 0], [113, 0], [114, 0], [115, 0], [116, 0], [117, 0], [118, 0], [119, 0], [120, 0], [121, 0], [122, 0], [123, 0], [124, 0], [125, 0], [126, 0], [127, 0], [128, 0], [129, 0], [130, 0], [131, 0], [132, 0], [133, 0], [134, 0], [135, 0], [136, 0], [137, 0], [138, 0], [139, 0], [140, 0], [141, 0], [142, 0], [143, 0], [144, 0], [145, 0], [146, 0], [147, 0], [148, 0], [149, 0], [150, 0], [151, 0], [152, 0], [153, 0], [154, 0], [155, 0], [156, 0], [157, 0], [158, 0], [159, 0], [160, 0], [161, 0], [162, 0], [163, 0], [164, 0], [165, 0], [166, 0], [167, 0], [168, 0], [169, 0], [170, 0], [171, 0], [172, 0], [173, 0], [174, 0], [175, 0], [176, 0], [177, 0], [178, 0], [179, 0], [180, 0], [181, 0], [182, 0], [183, 0], [184, 0], [185, 0], [186, 0], [187, 0], [188, 0], [189, 0], [190, 0], [191, 0], [192, 0], [193, 0], [194, 0], [195, 0], [196, 0]]\n"
     ]
    }
   ],
   "source": [
    "# count of count table\n",
    "count_table=[]\n",
    "count_count = []\n",
    "for i in all_bigram: \n",
    "        count_table.append(bigram.count(i))\n",
    "        \n",
    "bigram_count= []\n",
    "for i in range(len(all_bigram)):\n",
    "    temp = [all_bigram[i],count_table[i]]\n",
    "    bigram_count.append(temp)\n",
    "print(bigram_count)    \n",
    "\n",
    "j=0\n",
    "for i in range(0,(len(all_bigram)+1)):\n",
    "    m = [j, count_table.count(j)]\n",
    "    count_count.append(m)\n",
    "    j=j+1\n",
    "print(count_count)"
   ]
  }
 ],
 "metadata": {
  "anaconda-cloud": {},
  "kernelspec": {
   "display_name": "Python [default]",
   "language": "python",
   "name": "python3"
  },
  "language_info": {
   "codemirror_mode": {
    "name": "ipython",
    "version": 3
   },
   "file_extension": ".py",
   "mimetype": "text/x-python",
   "name": "python",
   "nbconvert_exporter": "python",
   "pygments_lexer": "ipython3",
   "version": "3.5.2"
  }
 },
 "nbformat": 4,
 "nbformat_minor": 1
}
