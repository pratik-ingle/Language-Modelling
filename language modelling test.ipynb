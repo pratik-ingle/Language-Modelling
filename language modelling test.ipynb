{
 "cells": [
  {
   "cell_type": "code",
   "execution_count": 3,
   "metadata": {
    "collapsed": false
   },
   "outputs": [
    {
     "name": "stdout",
     "output_type": "stream",
     "text": [
      "VOCABULARY : ['peter', 'piper', 'picked', 'a', 'peck', 'of', 'pickled', 'peppers', 'if', 'where', 's', 'the'] \n",
      "\n",
      "[['peter', 0.11428571428571428], ['of', 0.11428571428571428]]\n",
      "[[['<s>', 'peter'], 0.25], [['peter', 'piper'], 1.0], [['piper', 'picked'], 1.0], [['picked', 'a'], 0.5], [['a', 'peck'], 1.0], [['peck', 'of'], 1.0], [['of', 'pickled'], 1.0], [['pickled', 'peppers'], 1.0], [['peppers', '</s>'], 0.5], [['<s>', 'a'], 0.25], [['peppers', 'peter'], 0.5], [['picked', '</s>'], 0.5], [['<s>', 'if'], 0.25], [['if', 'peter'], 1.0], [['<s>', 'where'], 0.25], [['where', 's'], 1.0], [['s', 'the'], 1.0], [['the', 'peck'], 1.0]]\n",
      "[['peter', 'piper'], 1.0]\n",
      "[[['<s>', 'peter'], 0.125], [['peter', 'piper'], 0.3125], [['piper', 'picked'], 0.3125], [['picked', 'a'], 0.1875], [['a', 'peck'], 0.26666666666666666], [['peck', 'of'], 0.3125], [['of', 'pickled'], 0.3125], [['pickled', 'peppers'], 0.3125], [['peppers', '</s>'], 0.1875], [['<s>', 'a'], 0.125], [['peppers', 'peter'], 0.1875], [['picked', '</s>'], 0.1875], [['<s>', 'if'], 0.125], [['if', 'peter'], 0.15384615384615385], [['<s>', 'where'], 0.125], [['where', 's'], 0.15384615384615385], [['s', 'the'], 0.15384615384615385], [['the', 'peck'], 0.15384615384615385]]\n",
      "[[0, 0], [1, 8], [2, 4], [3, 1], [4, 5], [5, 0], [6, 0], [7, 0], [8, 0], [9, 0], [10, 0], [11, 0], [12, 0], [13, 0], [14, 0], [15, 0], [16, 0], [17, 0], [18, 0]]\n"
     ]
    }
   ],
   "source": [
    "words = []\n",
    "vocab = []\n",
    "uni_prob = {}\n",
    "uni_prob_list = []\n",
    "bi_list = []\n",
    "bi_prob = []\n",
    "temp_bi = []\n",
    "bi_prob_lap = []\n",
    "count_table = []\n",
    "count_count = []\n",
    "temp_count = []\n",
    "with open(\"mothergoosecorpus.txt\",\"r\") as f:\n",
    "    i=0\n",
    "    j=0\n",
    "    lines = f.readlines()\n",
    "    for line in lines:\n",
    "        tokens = line.split()\n",
    "        words.extend(tokens)\n",
    "    len_uni = len(words) - words.count('<s>') - words.count('</s>')\n",
    "    for word in words:\n",
    "        if word not in vocab and word != '<s>' and word != '</s>':\n",
    "            vocab.append(word)\n",
    "        if word == '<s>' or word == '</s>':\n",
    "            {}\n",
    "        else:\n",
    "            uni_prob[word] = words.count(word) / len_uni\n",
    "        if i != len(words)-1:\n",
    "            if words[i] =='</s>':\n",
    "                    i=i+1\n",
    "            else:\n",
    "                bi = [words[i],words[i+1]]\n",
    "                bi_list.append(bi)\n",
    "                i=i+1\n",
    "    #print(\"VOCABULARY :\", vocab,\"\\n\")\n",
    "    for key , value in uni_prob.items():\n",
    "        temp = [key, value]\n",
    "        uni_prob_list.append(temp)\n",
    "    uni_prob_list.sort(key = lambda x :x[1], reverse= True)\n",
    "    #print(uni_prob_list[0:2])\n",
    "    for i in bi_list:\n",
    "        if i not in temp_bi:\n",
    "            temp_bi.append(i)\n",
    "            temp1 = [i,bi_list.count(i)/ words.count(i[0])]\n",
    "            bi_prob.append(temp1)\n",
    "    #print(bi_prob)\n",
    "    bi_prob.sort(key =lambda x :x[:][1], reverse = True)\n",
    "    #print(bi_prob[0])\n",
    "    for i in temp_bi:\n",
    "        temp2 = [i , (bi_list.count(i)+1) / (words.count(i[0]) + len(vocab))]\n",
    "        bi_prob_lap.append(temp2)\n",
    "    #print(bi_prob_lap)\n",
    "    for i in temp_bi: \n",
    "        count_table.append(bi_list.count(i))\n",
    "    j=0\n",
    "    for i in range(0,(len(temp_bi)+1)):\n",
    "        m = [j, count_table.count(j)]\n",
    "        count_count.append(m)\n",
    "        j=j+1\n",
    "    #print(count_count)\n",
    "    # when a zero count of count is encountered, it causes the probability of the previous event to be zero even if it had some probability to start with. Seen events could be counted as unseen, hence smoothing of count of counts table is necessary.\n",
    "     "
   ]
  },
  {
   "cell_type": "code",
   "execution_count": null,
   "metadata": {
    "collapsed": true
   },
   "outputs": [],
   "source": []
  }
 ],
 "metadata": {
  "kernelspec": {
   "display_name": "Python [default]",
   "language": "python",
   "name": "python3"
  },
  "language_info": {
   "codemirror_mode": {
    "name": "ipython",
    "version": 3
   },
   "file_extension": ".py",
   "mimetype": "text/x-python",
   "name": "python",
   "nbconvert_exporter": "python",
   "pygments_lexer": "ipython3",
   "version": "3.5.2"
  }
 },
 "nbformat": 4,
 "nbformat_minor": 1
}
